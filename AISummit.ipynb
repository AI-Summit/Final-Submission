{
 "cells": [
  {
   "cell_type": "code",
   "execution_count": 304,
   "metadata": {},
   "outputs": [],
   "source": [
    "import numpy as np\n",
    "import pandas as pd \n",
    "from matplotlib import pyplot as plt\n",
    "from scipy.optimize import minimize\n",
    "from scipy.optimize import Bounds"
   ]
  },
  {
   "cell_type": "markdown",
   "metadata": {},
   "source": [
    "# Load the Data and Preprocess"
   ]
  },
  {
   "cell_type": "markdown",
   "metadata": {},
   "source": [
    "Please use the Files from our Repo, because we did few small adjustments of preprocessing in excel"
   ]
  },
  {
   "cell_type": "code",
   "execution_count": 199,
   "metadata": {},
   "outputs": [],
   "source": [
    "df_abbrev = pd.read_excel('ABBREV.xlsx')\n",
    "df_agr = pd.read_excel('Agriculture_Dataset_text.xlsx')\n",
    "df_nut = pd.read_excel('daily_nutrients.xlsx')"
   ]
  },
  {
   "cell_type": "markdown",
   "metadata": {},
   "source": [
    "### Adjust the Type and drop not needed column"
   ]
  },
  {
   "cell_type": "code",
   "execution_count": 200,
   "metadata": {},
   "outputs": [],
   "source": [
    "for col in df_agr.columns:\n",
    "    if col != 'Area' and col != 'Year':\n",
    "        df_agr[col] = df_agr[col].astype('float')\n",
    "df_agr = df_agr.drop(columns=['Unnamed: 30'])"
   ]
  },
  {
   "cell_type": "code",
   "execution_count": 286,
   "metadata": {},
   "outputs": [],
   "source": [
    "# Adjust column names\n",
    "products = [el[:-29] for el in df_agr.columns[2:-1:2]]"
   ]
  },
  {
   "cell_type": "markdown",
   "metadata": {},
   "source": [
    "### Search for good mapping matches in the Abbrev Dataframe\n",
    "We decided to drop Camel Milk because we could not find an equivalent"
   ]
  },
  {
   "cell_type": "code",
   "execution_count": 202,
   "metadata": {},
   "outputs": [],
   "source": [
    "cereals = [item for item  in list(df_abbrev['Shrt_Desc']) if 'cereals' in item.lower() and not 'rice' in item.lower()][0]\n",
    "\n",
    "eggs = [item for item  in list(df_abbrev['Shrt_Desc']) if 'egg' in item.lower()][1]\n",
    "\n",
    "meat_buffalo = [item for item  in list(df_abbrev['Shrt_Desc']) if 'meat' in item.lower() and 'buffalo' in item.lower()][0]\n",
    "meat_cattle = [item for item  in list(df_abbrev['Shrt_Desc']) if 'meat' in item.lower()][549]\n",
    "meat_chicken = [item for item  in list(df_abbrev['Shrt_Desc']) if 'chicken' in item.lower()][153]\n",
    "meat_goat = [item for item  in list(df_abbrev['Shrt_Desc']) if 'meat' in item.lower() and 'goat' in item.lower()][0]\n",
    "meat_pig = [item for item  in list(df_abbrev['Shrt_Desc']) if 'pork' in item.lower()][269]\n",
    "meat_sheep = [item for item  in list(df_abbrev['Shrt_Desc']) if 'lamb' in item.lower()][4]\n",
    "\n",
    "buffalo_milk = [item for item  in list(df_abbrev['Shrt_Desc']) if 'milk' in item.lower() and 'buffalo' in item.lower()][0]\n",
    "cow_milk = [item for item  in list(df_abbrev['Shrt_Desc']) if 'milk' in item.lower()][12]\n",
    "goat_milk = [item for item  in list(df_abbrev['Shrt_Desc']) if 'milk' in item.lower() and 'goat' in item.lower()][0]\n",
    "sheep_milk = [item for item  in list(df_abbrev['Shrt_Desc']) if 'milk' in item.lower() and 'sheep' in item.lower()][0]\n",
    "\n",
    "rice = [item for item  in list(df_abbrev['Shrt_Desc']) if 'rice' in item.lower()][66]\n",
    "\n",
    "descriptions = [cereals, eggs, meat_buffalo, meat_cattle, meat_chicken, meat_goat, meat_pig, meat_sheep, buffalo_milk, cow_milk, goat_milk, sheep_milk, rice]\n",
    "\n",
    "mapping = {products[i]: descriptions[i] for i in range(len(descriptions))}\n",
    "\n",
    "df_agr = df_agr.drop(columns=['Milk, whole fresh camel-Emissions (CO2eq)-kilotonnes', 'Milk, whole fresh camel-Production-tonnes'])"
   ]
  },
  {
   "cell_type": "markdown",
   "metadata": {},
   "source": [
    "### Create Mapping for the nutrition tables to combine them"
   ]
  },
  {
   "cell_type": "code",
   "execution_count": 203,
   "metadata": {},
   "outputs": [],
   "source": [
    "nutrient_mapping = {\n",
    "    'Calcium_(mg)': 'Calcium',                  # mg both\n",
    "    'Fiber_TD_(g)': 'Dietary Fiber',            # g both\n",
    "    'Lipid_Tot_(g)': 'Fat',                     # g both\n",
    "    'Magnesium_(mg)': 'Magnesium',              # mg both\n",
    "    'Manganese_(mg)': 'Manganese',              # mg both\n",
    "    'Phosphorus_(mg)': 'Phosphorus',            # mg both\n",
    "    'Potassium_(mg)': 'Potassium',              # mg both\n",
    "    'Vit_C_(mg)': 'Vitamin C',                  # mg both\n",
    "    'Vit_D_µg': 'Vitamin D',                    # mcg both\n",
    "    'Vit_K_(µg)': 'Vitamin K',                  # mcg both\n",
    "    'Copper_mg)': 'Copper',                     # mg both\n",
    "    'Folic_Acid_(µg)': 'Folate/Folic Acid',     # mcg both \n",
    "    'Niacin_(mg)': 'Niacin',                    # mg both\n",
    "    'Panto_Acid_mg)': 'Pantothenic Acid',       # mg both\n",
    "    'Riboflavin_(mg)': 'Riboflavin',            # mg both\n",
    "    'Selenium_(µg)': 'Selenium',                # mcg both\n",
    "    'Sodium_(mg)': 'Sodium',                    # mg both\n",
    "    'Thiamin_(mg)': 'Thiamin',                  # mg both\n",
    "    'Carbohydrt_(g)': 'Total carbohydrate',     # g both\n",
    "    'Vit_A_IU': 'Vitamin A',                    # mcg both\n",
    "    'Vit_B6_(mg)': 'Vitamin B6',                # mg both\n",
    "    'Vit_B12_(µg)': 'Vitamin B12',              # mcg both\n",
    "    'Vit_E_(mg)': 'Vitamin E',                  # mg both\n",
    "    'Zinc_(mg)': 'Zinc',                        # mg both\n",
    "    'Cholestrl_(mg)': 'Cholesterol',            # mg both\n",
    "    'Iron_(mg)': 'Iron',                        # mg both\n",
    "    'Protein_(g)': 'Protein',                   # g both\n",
    "    'FA_Sat_(g)': 'Saturated fat',              # g both\n",
    "    'Ash_(g)': 'Added sugars',                  # g both\n",
    "    'Choline_Tot_ (mg)': 'Choline'              # mg both  \n",
    "}"
   ]
  },
  {
   "cell_type": "markdown",
   "metadata": {},
   "source": [
    "### Combine the Daily Nutrition frame with the products from the aggriculture frame"
   ]
  },
  {
   "cell_type": "code",
   "execution_count": 204,
   "metadata": {},
   "outputs": [],
   "source": [
    "# prepare food frame\n",
    "df = df_abbrev[df_abbrev['Shrt_Desc'].isin(descriptions)].set_index('Shrt_Desc').transpose()\n",
    "df = df.drop(['GmWt_1', 'GmWt_2', 'GmWt_Desc1', 'GmWt_Desc2'])\n",
    "\n",
    "df_nut = df_nut.set_index('Nutrient')\n",
    "vals = df_nut['Daily Value']\n",
    "vals = vals.str.strip('mcg')\n",
    "df_nut['Daily Value'] = vals\n",
    "\n",
    "# combine daily nutrition frame with food frame\n",
    "df['Daily Value'] = np.nan\n",
    "for nutri in df.index:\n",
    "    if nutri in nutrient_mapping.keys():\n",
    "        df.loc[nutri, 'Daily Value'] = df_nut.loc[nutrient_mapping[nutri], 'Daily Value']\n",
    "\n",
    "# Adjust format to numbers\n",
    "for col in df.columns:\n",
    "    df[col] = df[col].astype('float')\n"
   ]
  },
  {
   "cell_type": "markdown",
   "metadata": {},
   "source": [
    "# Task 1\n",
    "## Compute the fraction of the total EU GHG emission, related to agriculture as a whole"
   ]
  },
  {
   "cell_type": "code",
   "execution_count": 287,
   "metadata": {},
   "outputs": [],
   "source": [
    "# Calculate total CO2 Emissions for the EU\n",
    "df_eu = df_agr[df_agr['Area'] == 'European Union (27)']\n",
    "CO2_cols = [col for col in df_eu.columns if '(CO2eq)' in col]\n",
    "df_eu = df_eu[['Year'] + CO2_cols]\n",
    "df_eu['EU Total Emissions (CO2eq)-kilotonnes'] = df_eu[CO2_cols].sum(axis=1)\n",
    "\n",
    "# Calculate total CO2 Emissions for the world\n",
    "df_total = df_agr[df_agr['Area'] == 'World']\n",
    "df_total = df_total[['Year'] + CO2_cols]\n",
    "df_total['World Total Emissions (CO2eq)-kilotonnes'] = df_total[CO2_cols].sum(axis=1)"
   ]
  },
  {
   "cell_type": "code",
   "execution_count": 302,
   "metadata": {},
   "outputs": [
    {
     "name": "stderr",
     "output_type": "stream",
     "text": [
      "/Users/niklastecklenburg/opt/miniconda3/envs/AISummit/lib/python3.10/site-packages/pandas/core/indexes/base.py:6982: FutureWarning: In a future version, the Index constructor will not infer numeric dtypes when passed object-dtype sequences (matching Series behavior)\n",
      "  return Index(sequences[0], name=names)\n"
     ]
    },
    {
     "data": {
      "text/plain": [
       "<AxesSubplot:xlabel='Year'>"
      ]
     },
     "execution_count": 302,
     "metadata": {},
     "output_type": "execute_result"
    },
    {
     "data": {
      "image/png": "[encoded data removed]",
      "text/plain": [
       "<Figure size 432x288 with 1 Axes>"
      ]
     },
     "metadata": {
      "needs_background": "light"
     },
     "output_type": "display_data"
    }
   ],
   "source": [
    "# Build one Dataframe and extract the results\n",
    "df_task_1 = df_total[['Year', 'World Total Emissions (CO2eq)-kilotonnes']].merge(df_eu[['Year', 'EU Total Emissions (CO2eq)-kilotonnes']], \n",
    "                                                                                 how='left', \n",
    "                                                                                 on='Year')\n",
    "df_task_1['EU Fraction Total Emissions (CO2eq)-kilotonnes'] = df_task_1['EU Total Emissions (CO2eq)-kilotonnes'] / df_task_1['World Total Emissions (CO2eq)-kilotonnes']\n",
    "\n",
    "df_2017=df_task_1.loc[df_task_1['Year']==2017]\n",
    "df_2017.plot(x=\"Year\", y=[\"World Total Emissions (CO2eq)-kilotonnes\", \"EU Total Emissions (CO2eq)-kilotonnes\"], kind=\"bar\")"
   ]
  },
  {
   "cell_type": "markdown",
   "metadata": {},
   "source": [
    "In 2017 the EU contribution was about 10%"
   ]
  },
  {
   "cell_type": "markdown",
   "metadata": {},
   "source": [
    "### Development of the EU contribution over time"
   ]
  },
  {
   "cell_type": "code",
   "execution_count": 305,
   "metadata": {},
   "outputs": [
    {
     "name": "stderr",
     "output_type": "stream",
     "text": [
      "/Users/niklastecklenburg/opt/miniconda3/envs/AISummit/lib/python3.10/site-packages/pandas/core/indexes/base.py:6982: FutureWarning: In a future version, the Index constructor will not infer numeric dtypes when passed object-dtype sequences (matching Series behavior)\n",
      "  return Index(sequences[0], name=names)\n"
     ]
    },
    {
     "data": {
      "image/png": "[encoded data removed]",
      "text/plain": [
       "<Figure size 432x288 with 1 Axes>"
      ]
     },
     "metadata": {
      "needs_background": "light"
     },
     "output_type": "display_data"
    }
   ],
   "source": [
    "axes = plt.gca()\n",
    "\n",
    "# pass the axes object to plot function\n",
    "df_task_1.plot(kind='line', x='Year', y='EU Fraction Total Emissions (CO2eq)-kilotonnes', ax=axes);"
   ]
  },
  {
   "cell_type": "markdown",
   "metadata": {},
   "source": [
    "# Task 2\n",
    "Fraction of EU  CO2 contribution within each product type"
   ]
  },
  {
   "cell_type": "code",
   "execution_count": 293,
   "metadata": {},
   "outputs": [],
   "source": [
    "# Calculate fractions\n",
    "\n",
    "# Add prefix to Columns\n",
    "eu_rename_dict = {name : 'EU, ' + name for name in CO2_cols}\n",
    "df_eu = df_eu.rename(columns = eu_rename_dict)\n",
    "\n",
    "world_rename_dict = {name : 'World, ' + name for name in CO2_cols}\n",
    "df_total = df_total.rename(columns = world_rename_dict)\n",
    "\n",
    "df_task_2 = df_eu.merge(df_total, how='left', on='Year')\n",
    "\n",
    "for col in CO2_cols:\n",
    "    df_task_2['Ratio, ' + col] = df_task_2['EU, ' + col] / df_task_2['World, ' + col]\n",
    "\n",
    "ratio_cols = ['Ratio, ' + col for col in CO2_cols]\n",
    "df_task_2 = df_task_2[['Year'] + ratio_cols]"
   ]
  },
  {
   "cell_type": "markdown",
   "metadata": {},
   "source": [
    "Fractions for 2017"
   ]
  },
  {
   "cell_type": "code",
   "execution_count": 323,
   "metadata": {},
   "outputs": [
    {
     "data": {
      "image/png": "[encoded data removed]",
      "text/plain": [
       "<Figure size 432x288 with 1 Axes>"
      ]
     },
     "metadata": {
      "needs_background": "light"
     },
     "output_type": "display_data"
    }
   ],
   "source": [
    "plt.scatter(df_task_2.columns[1:], df_task_2[df_task_2['Year'] == 2017].values.tolist()[0][1:], marker = 'o')\n",
    "\n",
    "plt.xticks(rotation='vertical', size=10)\n",
    "plt.yticks(size=10)\n",
    "\n",
    "plt.title(\"Fraction of the total EU GHG emissions attributable to each agricultural product\")\n",
    "plt.xlabel(\"Product\", size=11)\n",
    "plt.ylabel(\"Percentage\", size=11)\n",
    "\n",
    "plt.show()"
   ]
  },
  {
   "cell_type": "markdown",
   "metadata": {},
   "source": [
    "# Task 3"
   ]
  },
  {
   "cell_type": "markdown",
   "metadata": {},
   "source": [
    "Prepare the Data by rearranging columns and dropping not needed stuff, so we can feed everything into the cost function"
   ]
  },
  {
   "cell_type": "code",
   "execution_count": 324,
   "metadata": {},
   "outputs": [
    {
     "name": "stderr",
     "output_type": "stream",
     "text": [
      "/var/folders/86/jj_j7bm56glckk9r2cy1875h0000gn/T/ipykernel_23012/3550610387.py:4: RuntimeWarning: divide by zero encountered in true_divide\n",
      "  co2_mat = np.divide(co2_mat, prod_mat)\n"
     ]
    }
   ],
   "source": [
    "# Calculate the average CO2 Emssion per produced 100 gram\n",
    "co2_mat = df_agr[CO2_cols].to_numpy()\n",
    "prod_mat = df_agr.drop(columns=['Year', 'Area'] + CO2_cols).to_numpy()\n",
    "co2_mat = np.divide(co2_mat, prod_mat)\n",
    "co2_vec = co2_mat[-1,:] \n",
    "# scale from tons to 100 grams\n",
    "co2_vec = co2_vec / 10000\n",
    "\n",
    "df = df[[\"CEREALS RTE,KELLOGG,KELLOGG'S ALL-BRAN ORIGINAL\",\n",
    "         'EGG,WHL,RAW,FRSH', \n",
    "         'GAME MEAT,BUFFALO,H2O,RAW',\n",
    "         \"BEEF,GROUND,93% LN MEAT / 7% FAT\",\n",
    "         'CHICKEN,GROUND,RAW',\n",
    "         'GAME MEAT,GOAT,CKD,RSTD',\n",
    "         'PORK,FRESH,GROUND,RAW', \n",
    "         'LAMBSQUARTERS,RAW',\n",
    "         'MILK,INDIAN BUFFALO,FLUID',\n",
    "         'MILK,PRODUCER,FLUID,3.7% MILKFAT',\n",
    "         'MILK,GOAT,FLUID,W/ ADDED VITAMIN D', \n",
    "         'MILK,SHEEP,FLUID',\n",
    "         'RICE,BROWN,LONG-GRAIN,RAW',\n",
    "         'Daily Value']]\n",
    "\n",
    "df = df.dropna(subset=['Daily Value'])\n",
    "daily_vec = df['Daily Value'].to_numpy()\n",
    "\n",
    "nut_mat = df.drop(columns=['Daily Value']).to_numpy()"
   ]
  },
  {
   "cell_type": "markdown",
   "metadata": {},
   "source": [
    "### Costfunction\n",
    "The cost function takes the input vector and calculates the CO2 emissions, connected to this diary plan. Th function also checks whether this diary plan fullfills all requierments, so is the body supplied with everything it needs, if following this diary. If this is not the case this diary is not an option. Therefore a penalty term is introduced, increasing the cost of this plan by a big unrelative big amount.\n",
    "\n",
    "NOTE: We are calculating in 100 grams. This is an assumption we made by looking into the water content of the products in the abbrev table."
   ]
  },
  {
   "cell_type": "code",
   "execution_count": 325,
   "metadata": {},
   "outputs": [],
   "source": [
    "def cost_function(input_vector):\n",
    "    nut_vec = np.matmul(nut_mat, np.transpose(input_vector))\n",
    "    constraint = nut_vec - daily_vec\n",
    "    constraint = np.any(constraint < 0)\n",
    "    cost = np.dot(input_vector, co2_vec) + 10000 * constraint\n",
    "    return cost"
   ]
  },
  {
   "cell_type": "markdown",
   "metadata": {},
   "source": [
    "Due to a lack of time we kept the optimisation rather simple and used an optimiser included within the scipy optimisation toolbox."
   ]
  },
  {
   "cell_type": "code",
   "execution_count": 283,
   "metadata": {},
   "outputs": [
    {
     "name": "stdout",
     "output_type": "stream",
     "text": [
      "Optimization terminated successfully    (Exit mode 0)\n",
      "            Current function value: 0.009864705675625992\n",
      "            Iterations: 32\n",
      "            Function evaluations: 448\n",
      "            Gradient evaluations: 32\n"
     ]
    },
    {
     "name": "stderr",
     "output_type": "stream",
     "text": [
      "/var/folders/86/jj_j7bm56glckk9r2cy1875h0000gn/T/ipykernel_23012/1694885698.py:7: OptimizeWarning: Unknown solver options: xatol\n",
      "  res = minimize(cost_function, x0, method='SLSQP', bounds=bounds,\n"
     ]
    }
   ],
   "source": [
    "x0 = np.random.rand(13) * 20\n",
    "bounds = Bounds(lb=[0,0,0,0,0,0,0,0,0,0,0,0,0], \n",
    "                ub=[np.inf,np.inf,np.inf,np.inf,np.inf,np.inf,np.inf,np.inf,np.inf,np.inf,np.inf,np.inf,np.inf])\n",
    "res = minimize(cost_function, x0, method='SLSQP', bounds=bounds, \n",
    "               options={'xatol': 1e-8, 'disp': True})"
   ]
  },
  {
   "cell_type": "code",
   "execution_count": 341,
   "metadata": {},
   "outputs": [
    {
     "data": {
      "text/html": [
       "<div>\n",
       "<style scoped>\n",
       "    .dataframe tbody tr th:only-of-type {\n",
       "        vertical-align: middle;\n",
       "    }\n",
       "\n",
       "    .dataframe tbody tr th {\n",
       "        vertical-align: top;\n",
       "    }\n",
       "\n",
       "    .dataframe thead th {\n",
       "        text-align: right;\n",
       "    }\n",
       "</style>\n",
       "<table border=\"1\" class=\"dataframe\">\n",
       "  <thead>\n",
       "    <tr style=\"text-align: right;\">\n",
       "      <th></th>\n",
       "      <th>Product</th>\n",
       "      <th>Amount (in 100g)</th>\n",
       "    </tr>\n",
       "  </thead>\n",
       "  <tbody>\n",
       "    <tr>\n",
       "      <th>0</th>\n",
       "      <td>CEREALS RTE,KELLOGG,KELLOGG'S ALL-BRAN ORIGINAL</td>\n",
       "      <td>1.040280e+01</td>\n",
       "    </tr>\n",
       "    <tr>\n",
       "      <th>1</th>\n",
       "      <td>EGG,WHL,RAW,FRSH</td>\n",
       "      <td>1.223450e+01</td>\n",
       "    </tr>\n",
       "    <tr>\n",
       "      <th>2</th>\n",
       "      <td>GAME MEAT,BUFFALO,H2O,RAW</td>\n",
       "      <td>4.602887e-14</td>\n",
       "    </tr>\n",
       "    <tr>\n",
       "      <th>3</th>\n",
       "      <td>BEEF,GROUND,93% LN MEAT / 7% FAT</td>\n",
       "      <td>1.846472e-13</td>\n",
       "    </tr>\n",
       "    <tr>\n",
       "      <th>4</th>\n",
       "      <td>CHICKEN,GROUND,RAW</td>\n",
       "      <td>5.643121e-01</td>\n",
       "    </tr>\n",
       "    <tr>\n",
       "      <th>5</th>\n",
       "      <td>GAME MEAT,GOAT,CKD,RSTD</td>\n",
       "      <td>2.849594e-13</td>\n",
       "    </tr>\n",
       "    <tr>\n",
       "      <th>6</th>\n",
       "      <td>PORK,FRESH,GROUND,RAW</td>\n",
       "      <td>1.076573e-13</td>\n",
       "    </tr>\n",
       "    <tr>\n",
       "      <th>7</th>\n",
       "      <td>LAMBSQUARTERS,RAW</td>\n",
       "      <td>2.965471e-14</td>\n",
       "    </tr>\n",
       "    <tr>\n",
       "      <th>8</th>\n",
       "      <td>MILK,INDIAN BUFFALO,FLUID</td>\n",
       "      <td>5.922809e+00</td>\n",
       "    </tr>\n",
       "    <tr>\n",
       "      <th>9</th>\n",
       "      <td>MILK,PRODUCER,FLUID,3.7% MILKFAT</td>\n",
       "      <td>3.734678e-15</td>\n",
       "    </tr>\n",
       "    <tr>\n",
       "      <th>10</th>\n",
       "      <td>MILK,GOAT,FLUID,W/ ADDED VITAMIN D</td>\n",
       "      <td>1.639073e+01</td>\n",
       "    </tr>\n",
       "    <tr>\n",
       "      <th>11</th>\n",
       "      <td>MILK,SHEEP,FLUID</td>\n",
       "      <td>1.734168e-13</td>\n",
       "    </tr>\n",
       "    <tr>\n",
       "      <th>12</th>\n",
       "      <td>RICE,BROWN,LONG-GRAIN,RAW</td>\n",
       "      <td>3.369001e-14</td>\n",
       "    </tr>\n",
       "  </tbody>\n",
       "</table>\n",
       "</div>"
      ],
      "text/plain": [
       "                                            Product  Amount (in 100g)\n",
       "0   CEREALS RTE,KELLOGG,KELLOGG'S ALL-BRAN ORIGINAL      1.040280e+01\n",
       "1                                  EGG,WHL,RAW,FRSH      1.223450e+01\n",
       "2                         GAME MEAT,BUFFALO,H2O,RAW      4.602887e-14\n",
       "3                  BEEF,GROUND,93% LN MEAT / 7% FAT      1.846472e-13\n",
       "4                                CHICKEN,GROUND,RAW      5.643121e-01\n",
       "5                           GAME MEAT,GOAT,CKD,RSTD      2.849594e-13\n",
       "6                             PORK,FRESH,GROUND,RAW      1.076573e-13\n",
       "7                                 LAMBSQUARTERS,RAW      2.965471e-14\n",
       "8                         MILK,INDIAN BUFFALO,FLUID      5.922809e+00\n",
       "9                  MILK,PRODUCER,FLUID,3.7% MILKFAT      3.734678e-15\n",
       "10               MILK,GOAT,FLUID,W/ ADDED VITAMIN D      1.639073e+01\n",
       "11                                 MILK,SHEEP,FLUID      1.734168e-13\n",
       "12                        RICE,BROWN,LONG-GRAIN,RAW      3.369001e-14"
      ]
     },
     "execution_count": 341,
     "metadata": {},
     "output_type": "execute_result"
    }
   ],
   "source": [
    "df_diary = pd.DataFrame(list(zip(list(df.columns), res.x)), columns=['Product', 'Amount (in 100g)'])\n",
    "df_diary"
   ]
  },
  {
   "cell_type": "markdown",
   "metadata": {},
   "source": [
    "# Further Thoughts"
   ]
  },
  {
   "cell_type": "markdown",
   "metadata": {},
   "source": [
    "- We where looking into using PSO and ES, but decided to keep it simple due to the time constraint\n",
    "- To adjust for special diarys like lactose intollerant or vegetarian, one can simple set the nutritions to zero and the optimiser will account for this"
   ]
  }
 ],
 "metadata": {
  "interpreter": {
   "hash": "a84ddb4b3c4bf6824f0a840d7731fb2eb805a18143a0e1b6cd018342e2f7847d"
  },
  "kernelspec": {
   "display_name": "Python 3.10.4 ('AISummit')",
   "language": "python",
   "name": "python3"
  },
  "language_info": {
   "codemirror_mode": {
    "name": "ipython",
    "version": 3
   },
   "file_extension": ".py",
   "mimetype": "text/x-python",
   "name": "python",
   "nbconvert_exporter": "python",
   "pygments_lexer": "ipython3",
   "version": "3.10.4"
  },
  "orig_nbformat": 4
 },
 "nbformat": 4,
 "nbformat_minor": 2
}
